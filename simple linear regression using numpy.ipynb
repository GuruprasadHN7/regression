{
 "cells": [
  {
   "cell_type": "code",
   "execution_count": 60,
   "metadata": {},
   "outputs": [
    {
     "name": "stdout",
     "output_type": "stream",
     "text": [
      "the number of elements are 7\n"
     ]
    }
   ],
   "source": [
    "#load our input data\n",
    "import numpy as np\n",
    "x=np.array([2,4,3,6,8,8,10])\n",
    "y=np.array([10,9,6,6,6,3,2])\n",
    "n=np.size(x|y)\n",
    "print('the number of elements are',n)\n"
   ]
  },
  {
   "cell_type": "code",
   "execution_count": 12,
   "metadata": {},
   "outputs": [
    {
     "name": "stdout",
     "output_type": "stream",
     "text": [
      "mean of x is  5.85714285714\n",
      "mean of y is  6.0\n"
     ]
    }
   ],
   "source": [
    "#find the mean\n",
    "mean_x=np.mean(x)\n",
    "mean_y=np.mean(y)\n",
    "print('mean of x is ',mean_x)\n",
    "print('mean of y is ',mean_y)"
   ]
  },
  {
   "cell_type": "code",
   "execution_count": 50,
   "metadata": {},
   "outputs": [
    {
     "name": "stdout",
     "output_type": "stream",
     "text": [
      "-44.0\n",
      "52.8571428571\n"
     ]
    }
   ],
   "source": [
    "#calculate the slope\n",
    "for i in x:\n",
    "    sx=x-mean_x\n",
    "for i in y:\n",
    "    sy=y-mean_y\n",
    "#finding the sum of (x-mean_x) * (y-mean_y)\n",
    "a=np.dot(sx,sy)\n",
    "print(a)\n",
    "#finding the sum (x_mean_x)**2\n",
    "b=np.dot(sx,sx)\n",
    "print(b)"
   ]
  },
  {
   "cell_type": "code",
   "execution_count": 51,
   "metadata": {},
   "outputs": [
    {
     "name": "stdout",
     "output_type": "stream",
     "text": [
      "-0.832432432432\n"
     ]
    }
   ],
   "source": [
    "#find the slope \n",
    "m=a/b\n",
    "print(m)"
   ]
  },
  {
   "cell_type": "code",
   "execution_count": 52,
   "metadata": {},
   "outputs": [
    {
     "name": "stdout",
     "output_type": "stream",
     "text": [
      "10.9945945946\n"
     ]
    }
   ],
   "source": [
    "#finding the c intercept\n",
    "c=mean_y-(m*mean_y)\n",
    "print(c)"
   ]
  },
  {
   "cell_type": "code",
   "execution_count": 77,
   "metadata": {},
   "outputs": [
    {
     "name": "stdout",
     "output_type": "stream",
     "text": [
      "the parameter of the regression curve are::\n",
      "intercept is  10.9945945946\n",
      "slope is  -0.832432432432\n",
      "the best fit equation is y=  -0.83 x + 10.99\n",
      "the predictive value of the 22 is -7.31891891892\n"
     ]
    }
   ],
   "source": [
    "print('the parameter of the regression curve are::')\n",
    "print('intercept is ',c)\n",
    "print('slope is ',m)\n",
    "print('the best fit equation is y= ',round(m,2),'x','+',round(c,2))\n",
    "x1=22\n",
    "y1=m*x1+c\n",
    "print('the predictive value of the',x1,'is',y1)"
   ]
  },
  {
   "cell_type": "code",
   "execution_count": null,
   "metadata": {
    "collapsed": true
   },
   "outputs": [],
   "source": []
  }
 ],
 "metadata": {
  "kernelspec": {
   "display_name": "Python 3",
   "language": "python",
   "name": "python3"
  },
  "language_info": {
   "codemirror_mode": {
    "name": "ipython",
    "version": 3
   },
   "file_extension": ".py",
   "mimetype": "text/x-python",
   "name": "python",
   "nbconvert_exporter": "python",
   "pygments_lexer": "ipython3",
   "version": "3.6.3"
  }
 },
 "nbformat": 4,
 "nbformat_minor": 2
}
